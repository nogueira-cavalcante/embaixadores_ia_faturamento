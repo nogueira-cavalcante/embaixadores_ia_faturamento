{
 "cells": [
  {
   "cell_type": "markdown",
   "id": "75dd9cc9-91fd-4991-8ada-732a36560c70",
   "metadata": {},
   "source": [
    "# Importação de Pacotes"
   ]
  },
  {
   "cell_type": "code",
   "execution_count": 1,
   "id": "6fd732aa-6a1d-4bb3-ad93-045c73121486",
   "metadata": {
    "tags": []
   },
   "outputs": [],
   "source": [
    "import os\n",
    "import json\n",
    "import requests\n",
    "import numpy as np\n",
    "import pandas as pd\n",
    "from tqdm import tqdm\n",
    "from dotenv import load_dotenv"
   ]
  },
  {
   "cell_type": "markdown",
   "id": "1ed10638-2b33-48f3-b5cb-85dce75a8026",
   "metadata": {},
   "source": [
    "# Leitura das Variáveis de Ambiente"
   ]
  },
  {
   "cell_type": "code",
   "execution_count": 2,
   "id": "81c9d48a-94f4-429b-82da-9f001fd1e9f1",
   "metadata": {},
   "outputs": [
    {
     "data": {
      "text/plain": [
       "True"
      ]
     },
     "execution_count": 2,
     "metadata": {},
     "output_type": "execute_result"
    }
   ],
   "source": [
    "load_dotenv('variáveis-ambiente.env') "
   ]
  },
  {
   "cell_type": "markdown",
   "id": "ae9b3013-3de2-4564-8295-b7032ce75e22",
   "metadata": {},
   "source": [
    "# Leitura dos Dados"
   ]
  },
  {
   "cell_type": "code",
   "execution_count": 3,
   "id": "8f38fc68-99cb-4b86-baec-0d358df713ec",
   "metadata": {},
   "outputs": [
    {
     "name": "stdout",
     "output_type": "stream",
     "text": [
      "Leitura do arquivo de entrada feita com sucesso!\n"
     ]
    }
   ],
   "source": [
    "essential_columns = [\n",
    "    'NOME',\n",
    "    'PRIMEIRO DIA',\n",
    "    'ÚLTIMO DIA',\n",
    "    'HORA DIA',\n",
    "    'OBSERVAÇÃO']\n",
    "\n",
    "df_essential_columns = pd.DataFrame({'colunas_essenciais': essential_columns})\n",
    "\n",
    "header = 0\n",
    "reading_success_condition = False\n",
    "\n",
    "while reading_success_condition == False:\n",
    "\n",
    "    df = pd.read_excel(\n",
    "        os.getenv('NOME_ARQUIVO'),\n",
    "        sheet_name=0,\n",
    "        header=header)\n",
    "    \n",
    "    df.columns = [str(col).replace('\\n', ' ').strip() for col in df.columns]\n",
    "\n",
    "    if False not in df_essential_columns['colunas_essenciais'].isin(df.columns).values:\n",
    "        reading_success_condition = True\n",
    "        print('Leitura do arquivo de entrada feita com sucesso!')\n",
    "\n",
    "    header += 1"
   ]
  },
  {
   "cell_type": "markdown",
   "id": "6409b735-3b81-4357-a135-43c9c2a3bbc8",
   "metadata": {},
   "source": [
    "# Conversão da Coluna HORA DIA"
   ]
  },
  {
   "cell_type": "code",
   "execution_count": 4,
   "id": "3e539420-cd11-4419-8554-a94a8a5c250d",
   "metadata": {
    "tags": []
   },
   "outputs": [],
   "source": [
    "df['HORA DIA'] = df['HORA DIA'].dt.total_seconds() / 3600"
   ]
  },
  {
   "cell_type": "markdown",
   "id": "565251c3-f468-414b-bcff-d3422360b3eb",
   "metadata": {},
   "source": [
    "# Função de Chamada da API do SAI APP"
   ]
  },
  {
   "cell_type": "code",
   "execution_count": 5,
   "id": "151288db-9522-4e53-be17-c59d2f23ddfc",
   "metadata": {},
   "outputs": [],
   "source": [
    "def calling_sai_app(prompt):\n",
    "\n",
    "    url = \"https://sai-library.saiapplications.com\"\n",
    "    headers = {\"X-Api-Key\": os.getenv('SAI_API_KEY')}\n",
    "    data = {\n",
    "        \"inputs\": {\n",
    "            \"texto\": prompt,\n",
    "        }\n",
    "    }\n",
    "    \n",
    "    response = requests.post(f\"{url}/api/templates/68bafc2db10f56ceab913ac8/execute\", json=data, headers=headers)\n",
    "    \n",
    "    return response.text"
   ]
  },
  {
   "cell_type": "markdown",
   "id": "9a0811ed-393c-4a49-a0da-8e4655f43e74",
   "metadata": {},
   "source": [
    "# Função de Criação de Prompt"
   ]
  },
  {
   "cell_type": "code",
   "execution_count": 6,
   "id": "b0448998-d698-46f3-b12a-bb70e6c8662f",
   "metadata": {
    "tags": []
   },
   "outputs": [],
   "source": [
    "def generate_prompt(first_day_period, last_day_period, observation):\n",
    "    \n",
    "    prompt = f\"\"\"\n",
    "    \n",
    "    Considere o período de análise que começa no dia {first_day_period} e termina no dia {last_day_period}. Ambos os dias estão no formato \"dia/mês/ano\".\n",
    "    \n",
    "    Você vai receber um texto de observação que se encontra entre colchetes duplos [[...]] logo abaixo:\n",
    "    [[{observation}]]\n",
    "    \n",
    "    Esse texto contém informações sobre a ausência de um trabalhador, por exemplo, férias, atestado médico, começo e fim de jornada de trabalho, podendo apresentar um determinado perído de dias e/ou apenas uma data.\n",
    "    \n",
    "    Para a sua informação:\n",
    "        - férias: período de ausência do trabalaho que o trabalhador tem direito.\n",
    "        - atestado: dia ou período de ausência do trabalhador por motivo de doença.\n",
    "        - último dia: significa o último dia que o trabalhador trabalhou na empresa.\n",
    "        - iniciou (ou qualquer variação da palavra início): significa o primeiro dia de trabalho do trabalhador.\n",
    "    \n",
    "    Sua função é identificar quantos dias úteis o trabalhador não trabalhou no período de análise, desde o primeiro dia ({first_day_period}) até o último dia ({last_day_period}).\n",
    "    Considere os dias úteis todas as segundas, terças, quartas, quintas e sextas. Apenas os sábados e domingos não são dias úteis.\n",
    "    \n",
    "    Para a sua análise considere o seguinte raciocínio:\n",
    "        - Identifique todos os dias úteis que há no período de análise entre os dias {first_day_period} e {last_day_period};\n",
    "        - Identifique todos os dias que o trabalhador não trabalhou no texto de observação.\n",
    "        - Dos dias que o trabalhador não trabalhou no texto de observação identifique os dias úteis que o trabalhador não trabalhou.\n",
    "        - Dos dias úteis que o trabalhador não trabalhou, conte o total de dias úteis que o trabalhador não trabalhou no período de análise.\n",
    "    \n",
    "    Sua resposta deve ser no formato JSON, com os seguintes campos:\n",
    "        - justificativa: escreva aqui o raciocínio que você considerou para a sua resposta\n",
    "        - quant_dias_uteis: quantidade total de dias úteis que você calculou descontados do trabalhador    \n",
    "             \n",
    "    Muito importante: retorne apenas o JSON com os campos especificados. Não retorne outra informação indesejada.  \n",
    "    \"\"\"\n",
    "    \n",
    "    return prompt"
   ]
  },
  {
   "cell_type": "markdown",
   "id": "04f2182e-1df6-477c-a882-859b9f1d6e61",
   "metadata": {},
   "source": [
    "# Estimativa de Dias Úteis para Descontar"
   ]
  },
  {
   "cell_type": "code",
   "execution_count": 7,
   "id": "499ba11e-7e3d-4e3d-956b-fb80bffc0697",
   "metadata": {
    "tags": []
   },
   "outputs": [
    {
     "name": "stderr",
     "output_type": "stream",
     "text": [
      "100%|██████████| 38/38 [01:12<00:00,  1.90s/it]\n"
     ]
    }
   ],
   "source": [
    "for index in tqdm(df.index):\n",
    "    \n",
    "    first_day_period = df.loc[index, 'PRIMEIRO DIA']\n",
    "    last_day_period = df.loc[index, 'ÚLTIMO DIA']\n",
    "    observation = df.loc[index, 'OBSERVAÇÃO']\n",
    "    \n",
    "    if (observation is None) or (observation is np.nan):\n",
    "        justification = 'Nenhum dia para ser descontado.'\n",
    "        number_days_to_discount = 0\n",
    "            \n",
    "    else:\n",
    "        prompt = generate_prompt(\n",
    "            first_day_period.strftime('%d/%m/%Y'),\n",
    "            last_day_period.strftime('%d/%m/%Y'),\n",
    "            observation)\n",
    "              \n",
    "        response_ai_agent = calling_sai_app(prompt)\n",
    "        \n",
    "        response_ai_agent = json.loads(response_ai_agent.replace(\"```json\", '').replace(\"\\n\", '').replace(\"```\", ''))\n",
    "        \n",
    "        justification = response_ai_agent['justificativa']\n",
    "        number_days_to_discount = response_ai_agent['quant_dias_uteis']\n",
    "    \n",
    "    df.loc[index, 'JUSTIFICATIVA DOS DESCONTOS'] = justification\n",
    "    df.loc[index, 'QUANTIDADE DIAS ÚTEIS PARA DESCONTAR'] = number_days_to_discount"
   ]
  },
  {
   "cell_type": "markdown",
   "id": "d4c33e53-a5d8-446a-8151-da842bf451a9",
   "metadata": {
    "tags": []
   },
   "source": [
    "# Estimativa das Horas Úteis para Descontar"
   ]
  },
  {
   "cell_type": "code",
   "execution_count": 8,
   "id": "a5cba690-f37f-4801-9192-b681a505e483",
   "metadata": {},
   "outputs": [],
   "source": [
    "df['QUANTIDADE HORAS ÚTEIS PARA DESCONTAR'] = df['QUANTIDADE DIAS ÚTEIS PARA DESCONTAR'] * df['HORA DIA']"
   ]
  },
  {
   "cell_type": "markdown",
   "id": "c6c9d22a-40c7-444e-8cf6-35cc9cc92540",
   "metadata": {},
   "source": [
    "# Salvando os Resultados"
   ]
  },
  {
   "cell_type": "code",
   "execution_count": 10,
   "id": "7b4f78af-86f0-4481-99c2-07ba2e7c6bbc",
   "metadata": {},
   "outputs": [],
   "source": [
    "df.to_excel('resultados_faturamento.xlsx', index=False)"
   ]
  }
 ],
 "metadata": {
  "kernelspec": {
   "display_name": "Python 3 (ipykernel)",
   "language": "python",
   "name": "python3"
  },
  "language_info": {
   "codemirror_mode": {
    "name": "ipython",
    "version": 3
   },
   "file_extension": ".py",
   "mimetype": "text/x-python",
   "name": "python",
   "nbconvert_exporter": "python",
   "pygments_lexer": "ipython3",
   "version": "3.12.11"
  }
 },
 "nbformat": 4,
 "nbformat_minor": 5
}
